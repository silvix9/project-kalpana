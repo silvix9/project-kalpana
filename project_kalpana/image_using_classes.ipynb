{
 "cells": [
  {
   "cell_type": "code",
   "execution_count": 1,
   "metadata": {},
   "outputs": [],
   "source": [
    "import numpy as np\n",
    "import cv2\n",
    "from IPython.display import display, Image\n",
    "class image:\n",
    "  \n",
    "    dim1 = 640\n",
    "    dim2 = 480\n",
    "    \n",
    "\n",
    "    def __init__(self,intensity=None,R=None, G=None, B=None, isColor=True):\n",
    "            if(isColor):\n",
    "                assert R!=None and G!=None and B!=None, \"provide all three values for a color image\"\n",
    "                self.isColor = isColor\n",
    "                BGR = [B,G,R] #open cv deals with images in BGR\n",
    "                self.image = np.array([[BGR for _ in range(image.dim2)] for _ in range(image.dim1)], dtype=np.uint8)\n",
    "            else:\n",
    "                assert 0<=intensity<=1, \"intensity values should be between 0 and 1\"\n",
    "                self.intensity = intensity*255\n",
    "                self.isColor = isColor\n",
    "                \n",
    "                self.image = np.full((image.dim1,image.dim2), self.intensity, dtype= np.uint8 )\n",
    "                #self.image = np.array(self.image)\n",
    "\n",
    "    def display(self):\n",
    "        \n",
    "        if(self.isColor):\n",
    "            cv2.imshow('img', self.image)\n",
    "            if cv2.waitKey(0)==ord('q'):\n",
    "                cv2.destroyAllWindows()\n",
    "            display(Image(data=cv2.imencode('.png',self.image)[1]))\n",
    "\n",
    "            \n",
    "\n",
    "        else:\n",
    "            \n",
    "            cv2.imshow('img', self.image)\n",
    "            if cv2.waitKey(0)==ord('q'):\n",
    "                cv2.destroyAllWindows()\n",
    "            self.image = cv2.cvtColor(self.image, cv2.COLOR_BGR2RGB)\n",
    "            display(Image(data=cv2.imencode('.png', self.image)[1]))\n",
    "            \n",
    "        "
   ]
  },
  {
   "cell_type": "code",
   "execution_count": 2,
   "metadata": {},
   "outputs": [
    {
     "data": {
      "image/png": "[encoded data removed]",
      "text/plain": [
       "<IPython.core.display.Image object>"
      ]
     },
     "metadata": {},
     "output_type": "display_data"
    }
   ],
   "source": [
    "img = image(intensity=0, isColor=False)\n",
    "img.display()"
   ]
  },
  {
   "cell_type": "code",
   "execution_count": 3,
   "metadata": {},
   "outputs": [
    {
     "data": {
      "image/png": "[encoded data removed]",
      "text/plain": [
       "<IPython.core.display.Image object>"
      ]
     },
     "metadata": {},
     "output_type": "display_data"
    }
   ],
   "source": [
    "img1 = image(R=100,G=200,B=255,isColor=True)\n",
    "img1.display()"
   ]
  },
  {
   "cell_type": "code",
   "execution_count": null,
   "metadata": {},
   "outputs": [],
   "source": []
  }
 ],
 "metadata": {
  "kernelspec": {
   "display_name": "Python 3",
   "language": "python",
   "name": "python3"
  },
  "language_info": {
   "codemirror_mode": {
    "name": "ipython",
    "version": 3
   },
   "file_extension": ".py",
   "mimetype": "text/x-python",
   "name": "python",
   "nbconvert_exporter": "python",
   "pygments_lexer": "ipython3",
   "version": "3.11.6"
  }
 },
 "nbformat": 4,
 "nbformat_minor": 2
}
